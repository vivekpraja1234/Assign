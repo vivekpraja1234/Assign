{
  "cells": [
    {
      "cell_type": "markdown",
      "metadata": {
        "id": "view-in-github",
        "colab_type": "text"
      },
      "source": [
        "<a href=\"https://colab.research.google.com/github/vivekpraja1234/Assign/blob/main/Vivek_lab1.ipynb\" target=\"_parent\"><img src=\"https://colab.research.google.com/assets/colab-badge.svg\" alt=\"Open In Colab\"/></a>"
      ]
    },
    {
      "cell_type": "markdown",
      "metadata": {
        "id": "qIRdAjCynKxt"
      },
      "source": [
        "<H1>COMP216 Lab exercise 1</h1>"
      ]
    },
    {
      "cell_type": "markdown",
      "metadata": {
        "id": "lJ0h4EvZnKxx"
      },
      "source": [
        "<h5> Please insert your name, student number, course and date </h5>\n",
        "\n",
        "\n",
        "#Name: Vivek Prajapati\n",
        "\n",
        "#Student number: 301276440\n",
        "\n",
        "#Course: Networking for software Developers\n",
        "\n",
        "#Date: 29/01/24"
      ]
    },
    {
      "cell_type": "markdown",
      "metadata": {
        "id": "PyxdDqXTnKxy"
      },
      "source": [
        "\n",
        "\n",
        "<h3>Instructions</h3>\n",
        "\n",
        "1. Complete the exercises as far as you possibly can\n",
        "\n",
        "2. Rename the workbook to your first name  \n",
        "\n",
        "3. Make sure that the notebook is shareable\n",
        "\n",
        "4. Upload a link to the Assessment folder in brightspace  \n",
        "\n",
        "5. You code must work even if the original variable changes\n",
        "\n",
        "\n",
        "\n",
        ""
      ]
    },
    {
      "cell_type": "code",
      "execution_count": 1,
      "metadata": {
        "id": "ajRvcINZnKxy"
      },
      "outputs": [],
      "source": [
        "#imports and variables\n",
        "from random import randint\n",
        "\n",
        "pm = 'justin pierre james trudeau'\n",
        "instructor = 'John Doe'\n",
        "harry = \"You've gotta ask yourself a question: how are you today?\"\n",
        "numbers = [randint(5, 10) for _ in range(20)]\n"
      ]
    },
    {
      "cell_type": "markdown",
      "metadata": {
        "id": "MOPA6UhbnKx0"
      },
      "source": [
        "<h3> Working with sets </h3>"
      ]
    },
    {
      "cell_type": "code",
      "execution_count": 2,
      "metadata": {
        "id": "XTLyxnmQnKx0",
        "colab": {
          "base_uri": "https://localhost:8080/"
        },
        "outputId": "dd4f0fbc-2d9c-4aa0-fb15-e5312caacf1b"
      },
      "outputs": [
        {
          "output_type": "execute_result",
          "data": {
            "text/plain": [
              "{' ', 'D', 'J', 'e', 'h', 'n', 'o'}"
            ]
          },
          "metadata": {},
          "execution_count": 2
        }
      ],
      "source": [
        "# - 2 mark\n",
        "# create a set from the variable 'instructor' and print it\n",
        "instructor = 'John Doe'\n",
        "instructor_set = set(instructor)\n",
        "instructor_set\n"
      ]
    },
    {
      "cell_type": "code",
      "execution_count": 8,
      "metadata": {
        "id": "IHbUClshnKx0",
        "colab": {
          "base_uri": "https://localhost:8080/"
        },
        "outputId": "4d42fd77-4b40-45a1-e607-76ef2275e063"
      },
      "outputs": [
        {
          "output_type": "stream",
          "name": "stdout",
          "text": [
            "{' ', 'z', 'J', 'o', 'h', 'D', 'e', 'n'}\n"
          ]
        }
      ],
      "source": [
        "# - 2 mark\n",
        "# use the add() method to add 'z' to the set and print it\n",
        "instructor = 'John Doe'\n",
        "instructor_set = set(instructor)\n",
        "instructor_set.add('z')\n",
        "print(instructor_set)\n"
      ]
    },
    {
      "cell_type": "code",
      "execution_count": 2,
      "metadata": {
        "id": "2OFlN61xnKx1",
        "colab": {
          "base_uri": "https://localhost:8080/"
        },
        "outputId": "bd8468d1-5e35-4475-c750-e0a018a3ab68"
      },
      "outputs": [
        {
          "output_type": "execute_result",
          "data": {
            "text/plain": [
              "{'D', 'J', 'e', 'h', 'n', 'o', 'z'}"
            ]
          },
          "metadata": {},
          "execution_count": 2
        }
      ],
      "source": [
        "# - 2 mark\n",
        "#use the remove() method to take ' ' from the set and print it\n",
        "instructor_set = {' ', 'D', 'J', 'e', 'h', 'n', 'o', 'z'}\n",
        "instructor_set.remove(' ')\n",
        "instructor_set"
      ]
    },
    {
      "cell_type": "code",
      "execution_count": 9,
      "metadata": {
        "id": "g_pr_pPpnKx1",
        "colab": {
          "base_uri": "https://localhost:8080/"
        },
        "outputId": "ff0fb309-0cbf-4799-9989-192a2499708a"
      },
      "outputs": [
        {
          "output_type": "execute_result",
          "data": {
            "text/plain": [
              "{' ', 'D', 'J', 'e', 'h', 'n', 'o', 'x', 'y', 'z'}"
            ]
          },
          "metadata": {},
          "execution_count": 9
        }
      ],
      "source": [
        "# - 2 mark\n",
        "#use the update() function to add 'x', 'y' and 'z' to the set  and print the result\n",
        "instructor_set.update(['x', 'y', 'z'])\n",
        "instructor_set"
      ]
    },
    {
      "cell_type": "code",
      "execution_count": 10,
      "metadata": {
        "id": "OT528-LGnKx2",
        "colab": {
          "base_uri": "https://localhost:8080/"
        },
        "outputId": "0ad06871-b27e-43e2-9710-a56ab3df4ea3"
      },
      "outputs": [
        {
          "output_type": "execute_result",
          "data": {
            "text/plain": [
              "10"
            ]
          },
          "metadata": {},
          "execution_count": 10
        }
      ],
      "source": [
        "# - 2 mark\n",
        "#use the len() function to get the number of elements in the set and print the result\n",
        "set_length = len(instructor_set)\n",
        "set_length"
      ]
    },
    {
      "cell_type": "markdown",
      "metadata": {
        "id": "mZhibx1rnKx2"
      },
      "source": [
        "<h3> Working with tuples </h3>"
      ]
    },
    {
      "cell_type": "code",
      "execution_count": 17,
      "metadata": {
        "id": "EpQDgpIunKx3",
        "colab": {
          "base_uri": "https://localhost:8080/"
        },
        "outputId": "2cde115b-ba9c-4afa-c05a-681bd231abcd"
      },
      "outputs": [
        {
          "output_type": "execute_result",
          "data": {
            "text/plain": [
              "('j',\n",
              " 'u',\n",
              " 's',\n",
              " 't',\n",
              " 'i',\n",
              " 'n',\n",
              " ' ',\n",
              " 'p',\n",
              " 'i',\n",
              " 'e',\n",
              " 'r',\n",
              " 'r',\n",
              " 'e',\n",
              " ' ',\n",
              " 'j',\n",
              " 'a',\n",
              " 'm',\n",
              " 'e',\n",
              " 's',\n",
              " ' ',\n",
              " 't',\n",
              " 'r',\n",
              " 'u',\n",
              " 'd',\n",
              " 'e',\n",
              " 'a',\n",
              " 'u')"
            ]
          },
          "metadata": {},
          "execution_count": 17
        }
      ],
      "source": [
        "# - 2 mark\n",
        "#create a tuple from the variable pm and print it\n",
        "tuple_pm = 'justin pierre james trudeau'\n",
        "pm_tuple = tuple(pm)\n",
        "pm_tuple"
      ]
    },
    {
      "cell_type": "code",
      "execution_count": 12,
      "metadata": {
        "id": "RScD8Ef-nKx3",
        "colab": {
          "base_uri": "https://localhost:8080/"
        },
        "outputId": "d55e2105-9871-4585-8a30-61acafb74441"
      },
      "outputs": [
        {
          "output_type": "stream",
          "name": "stdout",
          "text": [
            "## There are 4 e's in the tuple\n",
            "## You can find a at index 15 of the tuple\n",
            "## There are 27 elements in the tuple\n"
          ]
        }
      ],
      "source": [
        "# - 6 marks\n",
        "# write the statement to produced the following lines of output\n",
        "\n",
        "## There are 4 e's in the tuple                   #use the count() method\n",
        "## You can find a at index 15 of the tuple        #use the index() method\n",
        "## There are 27 elements in the tuple             #use the len() function\n",
        "\n",
        "count_e = pm_tuple.count('e')\n",
        "print(\"## There are\", count_e, \"e's in the tuple\")\n",
        "\n",
        "index_a = pm_tuple.index('a')\n",
        "print(\"## You can find a at index\", index_a, \"of the tuple\")\n",
        "\n",
        "length_tuple = len(pm_tuple)\n",
        "print(\"## There are\", length_tuple, \"elements in the tuple\")\n"
      ]
    },
    {
      "cell_type": "code",
      "execution_count": 13,
      "metadata": {
        "id": "JMOwu-7GnKx3",
        "colab": {
          "base_uri": "https://localhost:8080/"
        },
        "outputId": "c52ef8e0-0971-4567-c935-82abf551d12e"
      },
      "outputs": [
        {
          "output_type": "execute_result",
          "data": {
            "text/plain": [
              "('s', 'i')"
            ]
          },
          "metadata": {},
          "execution_count": 13
        }
      ],
      "source": [
        "# - 2 mark\n",
        "# use array-like indexing to print the third and fifth element of your tuple\n",
        "third_element = pm_tuple[2]\n",
        "fifth_element = pm_tuple[4]\n",
        "third_element, fifth_element"
      ]
    },
    {
      "cell_type": "markdown",
      "metadata": {
        "id": "SfcOXC0tnKx4"
      },
      "source": [
        "<h3> Working with list </h3>"
      ]
    },
    {
      "cell_type": "code",
      "execution_count": 20,
      "metadata": {
        "id": "iP0V9ViznKx4",
        "colab": {
          "base_uri": "https://localhost:8080/"
        },
        "outputId": "74c773ba-3f46-4cef-caf4-6cfa79ccaa6f"
      },
      "outputs": [
        {
          "output_type": "stream",
          "name": "stdout",
          "text": [
            "[\"You've\", 'gotta', 'ask', 'yourself', 'a', 'question:', 'how', 'are', 'you', 'today?']\n"
          ]
        }
      ],
      "source": [
        "# - 2 mark\n",
        "# create a list from the variable 'harry' using the split() method\n",
        "# of the string class and print it\n",
        "harry = \"You've gotta ask yourself a question: how are you today?\"\n",
        "harry = harry.split()\n",
        "print(harry)\n"
      ]
    },
    {
      "cell_type": "code",
      "execution_count": 21,
      "metadata": {
        "id": "ygPOKhavnKx4",
        "colab": {
          "base_uri": "https://localhost:8080/"
        },
        "outputId": "0041670d-3d63-499c-8e91-123f313f2306"
      },
      "outputs": [
        {
          "output_type": "stream",
          "name": "stdout",
          "text": [
            "['Clint', \"You've\", 'gotta', 'ask', 'yourself', 'a', 'how', 'are', 'you', 'today?', 'Eastwood']\n"
          ]
        }
      ],
      "source": [
        "# - 4 marks\n",
        "# use the append() method once to add 'Eastwood' to the end of the  list\n",
        "# use the insert() method to add 'Clint' at the start of the  list\n",
        "# use the remove() method to remove 'question' from the list\n",
        "# print the final list\n",
        "\n",
        "harry = \"You've gotta ask yourself a question: how are you today?\"\n",
        "\n",
        "harry = harry.split()\n",
        "\n",
        "harry.append('Eastwood')\n",
        "\n",
        "harry.insert(0, 'Clint')\n",
        "\n",
        "harry.remove('question:')\n",
        "\n",
        "print(harry)\n"
      ]
    },
    {
      "cell_type": "code",
      "execution_count": 22,
      "metadata": {
        "id": "Y2lIGel_nKx4",
        "colab": {
          "base_uri": "https://localhost:8080/"
        },
        "outputId": "f6a0657c-97d4-4c00-f4ea-5d03743ace81"
      },
      "outputs": [
        {
          "output_type": "stream",
          "name": "stdout",
          "text": [
            "['Clint', 'Eastwood', \"You've\", 'a', 'are', 'ask', 'gotta', 'how', 'today?', 'you', 'yourself']\n",
            "['yourself', 'you', 'today?', 'how', 'gotta', 'ask', 'are', 'a', \"You've\", 'Eastwood', 'Clint']\n"
          ]
        }
      ],
      "source": [
        "# - 4 marks\n",
        "# use the sort() method to order the  list\n",
        "# print the list\n",
        "# use the reverse() method to reverse the list\n",
        "# print the final list\n",
        "\n",
        "harry.sort()\n",
        "print(harry)\n",
        "\n",
        "harry.reverse()\n",
        "print(harry)\n"
      ]
    },
    {
      "cell_type": "markdown",
      "metadata": {
        "id": "-fckR6BQnKx5"
      },
      "source": [
        "<h3> Working with dictionary </h3>"
      ]
    },
    {
      "cell_type": "code",
      "execution_count": null,
      "metadata": {
        "id": "6S-ckDpTnKx5"
      },
      "outputs": [],
      "source": [
        "#use the following dictionary for your exercises\n",
        "d = {\n",
        "    3462: 'Artificial Intelligence',\n",
        "    3468: 'Software Engineering Technician',\n",
        "    3469: 'Software Engineering Technology',\n",
        "    3472: 'Artificial Intelligence (FT)',\n",
        "    3478: 'Software Engineering Technician (FT)',\n",
        "    3528: 'Health Informatics Technology (FT)',\n",
        "    3609: 'Game - Programming',\n",
        "    3668: 'Health Informatics Technology',\n",
        "    3679: 'Game - Programming (FT)'}\n",
        ""
      ]
    },
    {
      "cell_type": "code",
      "execution_count": 25,
      "metadata": {
        "id": "0kb4o8P-nKx5",
        "colab": {
          "base_uri": "https://localhost:8080/"
        },
        "outputId": "db06e5d6-e05a-441b-8abf-4ff79cbdc51a"
      },
      "outputs": [
        {
          "output_type": "execute_result",
          "data": {
            "text/plain": [
              "{3462: 'Artificial Intelligence',\n",
              " 3468: 'Software Engineering Technician',\n",
              " 3469: 'Software Engineering Technology',\n",
              " 3472: 'Artificial Intelligence (FT)',\n",
              " 3478: 'Software Engineering Technician (FT)',\n",
              " 3528: 'Health Informatics Technology (FT)',\n",
              " 3609: 'Game - Programming',\n",
              " 3668: 'Health Informatics Technology',\n",
              " 3679: 'Game - Programming (FT)'}"
            ]
          },
          "metadata": {},
          "execution_count": 25
        }
      ],
      "source": [
        "# - 2 mark\n",
        "# display the dictionary\n",
        "d = {\n",
        "    3462: 'Artificial Intelligence',\n",
        "    3468: 'Software Engineering Technician',\n",
        "    3469: 'Software Engineering Technology',\n",
        "    3472: 'Artificial Intelligence (FT)',\n",
        "    3478: 'Software Engineering Technician (FT)',\n",
        "    3528: 'Health Informatics Technology (FT)',\n",
        "    3609: 'Game - Programming',\n",
        "    3668: 'Health Informatics Technology',\n",
        "    3679: 'Game - Programming (FT)'}\n",
        "\n",
        "d"
      ]
    },
    {
      "cell_type": "code",
      "execution_count": 26,
      "metadata": {
        "id": "Y_dRh6jJnKx5",
        "colab": {
          "base_uri": "https://localhost:8080/"
        },
        "outputId": "815bb4c4-068a-43fb-9d65-1e46bca1e106"
      },
      "outputs": [
        {
          "output_type": "stream",
          "name": "stdout",
          "text": [
            "Keys: dict_keys([3462, 3468, 3469, 3472, 3478, 3528, 3609, 3668, 3679])\n",
            "Values: dict_values(['Artificial Intelligence', 'Software Engineering Technician', 'Software Engineering Technology', 'Artificial Intelligence (FT)', 'Software Engineering Technician (FT)', 'Health Informatics Technology (FT)', 'Game - Programming', 'Health Informatics Technology', 'Game - Programming (FT)'])\n"
          ]
        }
      ],
      "source": [
        "# - 4 mark\n",
        "# use the keys() and values() method to display the keys and values\n",
        "\n",
        "keys = d.keys()\n",
        "print(\"Keys:\", keys)\n",
        "\n",
        "values = d.values()\n",
        "print(\"Values:\", values)"
      ]
    },
    {
      "cell_type": "code",
      "execution_count": 27,
      "metadata": {
        "id": "Q6CElrrNnKx6",
        "colab": {
          "base_uri": "https://localhost:8080/"
        },
        "outputId": "a9dcb3de-052e-4ce0-ea66-23ebcb1c0dcc"
      },
      "outputs": [
        {
          "output_type": "execute_result",
          "data": {
            "text/plain": [
              "('Artificial Intelligence', 'Artificial Intelligence')"
            ]
          },
          "metadata": {},
          "execution_count": 27
        }
      ],
      "source": [
        "# - 4 mark\n",
        "# Use the key-index technique to retrieve the name of program 3462\n",
        "# Use the get() method to retrieve the name of program 3462\n",
        "# It there a difference?\n",
        "\n",
        "program_name_key_index = d[3462]\n",
        "\n",
        "program_name_get_method = d.get(3462)\n",
        "\n",
        "program_name_key_index, program_name_get_method\n",
        "\n",
        "# There is no difference in output."
      ]
    },
    {
      "cell_type": "markdown",
      "metadata": {
        "id": "QMtZVr4pnKx6"
      },
      "source": [
        "<h3> Using the enumerate function </h3>\n",
        "\n",
        "This function can enumerate both sequences like sets, tuples, strings and lists as well as mappings like dictionaries  \n",
        "The enumerate function returns a collection of tuples.  \n",
        "Each tuples is a pair comprising of the index and the value."
      ]
    },
    {
      "cell_type": "code",
      "execution_count": 28,
      "metadata": {
        "id": "5ZoKGvsunKx6",
        "colab": {
          "base_uri": "https://localhost:8080/"
        },
        "outputId": "c7d29308-b21a-489b-e2b6-c4f02dd6f528"
      },
      "outputs": [
        {
          "output_type": "stream",
          "name": "stdout",
          "text": [
            "List:\n",
            "Position 0: j\n",
            "Position 1: u\n",
            "Position 2: s\n",
            "Position 3: t\n",
            "Position 4: i\n",
            "Position 5: n\n",
            "Position 6:  \n",
            "Position 7: p\n",
            "Position 8: i\n",
            "Position 9: e\n",
            "Position 10: r\n",
            "Position 11: r\n",
            "Position 12: e\n",
            "Position 13:  \n",
            "Position 14: j\n",
            "Position 15: a\n",
            "Position 16: m\n",
            "Position 17: e\n",
            "Position 18: s\n",
            "Position 19:  \n",
            "Position 20: t\n",
            "Position 21: r\n",
            "Position 22: u\n",
            "Position 23: d\n",
            "Position 24: e\n",
            "Position 25: a\n",
            "Position 26: u\n",
            "\n",
            "Tuple:\n",
            "Position 0: Y\n",
            "Position 1: o\n",
            "Position 2: u\n",
            "Position 3: '\n",
            "Position 4: v\n",
            "Position 5: e\n",
            "Position 6:  \n",
            "Position 7: g\n",
            "Position 8: o\n",
            "Position 9: t\n",
            "Position 10: t\n",
            "Position 11: a\n",
            "Position 12:  \n",
            "Position 13: a\n",
            "Position 14: s\n",
            "Position 15: k\n",
            "Position 16:  \n",
            "Position 17: y\n",
            "Position 18: o\n",
            "Position 19: u\n",
            "Position 20: r\n",
            "Position 21: s\n",
            "Position 22: e\n",
            "Position 23: l\n",
            "Position 24: f\n",
            "Position 25:  \n",
            "Position 26: a\n",
            "Position 27:  \n",
            "Position 28: q\n",
            "Position 29: u\n",
            "Position 30: e\n",
            "Position 31: s\n",
            "Position 32: t\n",
            "Position 33: i\n",
            "Position 34: o\n",
            "Position 35: n\n",
            "Position 36: :\n",
            "Position 37:  \n",
            "Position 38: h\n",
            "Position 39: o\n",
            "Position 40: w\n",
            "Position 41:  \n",
            "Position 42: a\n",
            "Position 43: r\n",
            "Position 44: e\n",
            "Position 45:  \n",
            "Position 46: y\n",
            "Position 47: o\n",
            "Position 48: u\n",
            "Position 49:  \n",
            "Position 50: t\n",
            "Position 51: o\n",
            "Position 52: d\n",
            "Position 53: a\n",
            "Position 54: y\n",
            "Position 55: ?\n",
            "\n",
            "Set:\n",
            "Position 0: J\n",
            "Position 1: o\n",
            "Position 2: h\n",
            "Position 3: n\n",
            "Position 4:  \n",
            "Position 5: D\n",
            "Position 6: o\n",
            "Position 7: e\n",
            "\n",
            "Dictionary:\n",
            "Position 0: Key 3462, Value Artificial Intelligence\n",
            "Position 1: Key 3468, Value Software Engineering Technician\n",
            "Position 2: Key 3469, Value Software Engineering Technology\n",
            "Position 3: Key 3472, Value Artificial Intelligence (FT)\n",
            "Position 4: Key 3478, Value Software Engineering Technician (FT)\n",
            "Position 5: Key 3528, Value Health Informatics Technology (FT)\n",
            "Position 6: Key 3609, Value Game - Programming\n",
            "Position 7: Key 3668, Value Health Informatics Technology\n",
            "Position 8: Key 3679, Value Game - Programming (FT)\n"
          ]
        }
      ],
      "source": [
        "# - 5 mark\n",
        "# use the enumerate function to print each collection: set, tuple, list and dict\n",
        "# You must print both the position and the item in the collection\n",
        "\n",
        "# Example collections\n",
        "pm_list = 'justin pierre james trudeau'\n",
        "instructor_set = 'John Doe'\n",
        "harry_tuple = \"You've gotta ask yourself a question: how are you today?\"\n",
        "d_dict = {\n",
        "    3462: 'Artificial Intelligence',\n",
        "    3468: 'Software Engineering Technician',\n",
        "    3469: 'Software Engineering Technology',\n",
        "    3472: 'Artificial Intelligence (FT)',\n",
        "    3478: 'Software Engineering Technician (FT)',\n",
        "    3528: 'Health Informatics Technology (FT)',\n",
        "    3609: 'Game - Programming',\n",
        "    3668: 'Health Informatics Technology',\n",
        "    3679: 'Game - Programming (FT)'}\n",
        "\n",
        "\n",
        "print(\"List:\")\n",
        "for index, item in enumerate(pm_list):\n",
        "    print(f\"Position {index}: {item}\")\n",
        "\n",
        "\n",
        "print(\"\\nTuple:\")\n",
        "for index, item in enumerate(harry_tuple):\n",
        "    print(f\"Position {index}: {item}\")\n",
        "\n",
        "\n",
        "print(\"\\nSet:\")\n",
        "for index, item in enumerate(instructor_set):\n",
        "    print(f\"Position {index}: {item}\")\n",
        "\n",
        "\n",
        "print(\"\\nDictionary:\")\n",
        "for index, (key, value) in enumerate(d_dict.items()):\n",
        "    print(f\"Position {index}: Key {key}, Value {value}\")\n"
      ]
    },
    {
      "cell_type": "code",
      "execution_count": 29,
      "metadata": {
        "id": "s-GodgNAnKx6",
        "colab": {
          "base_uri": "https://localhost:8080/"
        },
        "outputId": "7f7a8d4f-281a-46da-a32a-48de4bee7daf"
      },
      "outputs": [
        {
          "output_type": "stream",
          "name": "stdout",
          "text": [
            "Dictionary Enumeration:\n",
            "Position 0: Key 3462, Value Artificial Intelligence\n",
            "Position 1: Key 3468, Value Software Engineering Technician\n",
            "Position 2: Key 3469, Value Software Engineering Technology\n",
            "Position 3: Key 3472, Value Artificial Intelligence (FT)\n",
            "Position 4: Key 3478, Value Software Engineering Technician (FT)\n",
            "Position 5: Key 3528, Value Health Informatics Technology (FT)\n",
            "Position 6: Key 3609, Value Game - Programming\n",
            "Position 7: Key 3668, Value Health Informatics Technology\n",
            "Position 8: Key 3679, Value Game - Programming (FT)\n"
          ]
        }
      ],
      "source": [
        "# - 5 mark\n",
        "# Use the items() method of the dict class to enumerate a dictionary\n",
        "# You must print the position, the key and the value\n",
        "\n",
        "d_dict = {\n",
        "    3462: 'Artificial Intelligence',\n",
        "    3468: 'Software Engineering Technician',\n",
        "    3469: 'Software Engineering Technology',\n",
        "    3472: 'Artificial Intelligence (FT)',\n",
        "    3478: 'Software Engineering Technician (FT)',\n",
        "    3528: 'Health Informatics Technology (FT)',\n",
        "    3609: 'Game - Programming',\n",
        "    3668: 'Health Informatics Technology',\n",
        "    3679: 'Game - Programming (FT)'}\n",
        "\n",
        "print(\"Dictionary Enumeration:\")\n",
        "for position, (key, value) in enumerate(d_dict.items()):\n",
        "    print(f\"Position {position}: Key {key}, Value {value}\")\n"
      ]
    }
  ],
  "metadata": {
    "interpreter": {
      "hash": "1448b48b023bcc9c3d4a79e814720a10ca6d4244f75e0f7ce4af58f96ba2b7d3"
    },
    "kernelspec": {
      "display_name": "Python 3.9.7 64-bit ('base': conda)",
      "language": "python",
      "name": "python3"
    },
    "language_info": {
      "codemirror_mode": {
        "name": "ipython",
        "version": 3
      },
      "file_extension": ".py",
      "mimetype": "text/x-python",
      "name": "python",
      "nbconvert_exporter": "python",
      "pygments_lexer": "ipython3",
      "version": "3.9.7"
    },
    "orig_nbformat": 4,
    "colab": {
      "provenance": [],
      "include_colab_link": true
    }
  },
  "nbformat": 4,
  "nbformat_minor": 0
}